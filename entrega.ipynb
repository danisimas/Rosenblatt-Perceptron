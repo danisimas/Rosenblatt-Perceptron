{
 "cells": [
  {
   "cell_type": "markdown",
   "metadata": {},
   "source": [
    "# RNA - Atividade 2.1 - Perceptron de Rosenblatt\n",
    "\n",
    "Neste projeto prático, o objetivo é implementar o algoritmo de treinamento mediante Aprendizado Supervisionado do neurônio Perceptron de Rosenblatt aplicado em problemas de classificação. Para tanto, cada equipe deverá elaborar Jupyter Notebooks com o código-fonte deste algoritmo de treinamento desenvolvido na linguagem de Programação Python e fazendo uso das bibliotecas numpy, random, math e matplotlib. Em particular, a biblioteca numpy será de uso obrigatório para todas as operações de natureza matricial (multiplicação de matrizes, produto escalar, etc). Neste projeto prático, a biblioteca sci-kit learn só deve ser utilizada para o cálculo de métricas de desempenho."
   ]
  },
  {
   "cell_type": "markdown",
   "metadata": {},
   "source": [
    "## Equipe\n",
    "\n",
    "- Daniele Simas - 2015310060\n",
    "- Felipe Amorim - 2115080033\n",
    "- José Manuel - 2115080052\n",
    "- Miguel Angelo - 2115080024"
   ]
  },
  {
   "cell_type": "markdown",
   "metadata": {},
   "source": [
    "## Importação de Bibliotecas"
   ]
  },
  {
   "cell_type": "code",
   "execution_count": 1,
   "metadata": {},
   "outputs": [],
   "source": [
    "import numpy as np\n",
    "import matplotlib.pyplot as plt\n",
    "from prettytable import PrettyTable\n",
    "\n",
    "# Classe para controlar o treinamento do perceptron\n",
    "from src.perceptron import Perceptron\n",
    "\n",
    "# Funções auxiliares para carregar os arquivos do exercicio e encontrar o identificador da equipe\n",
    "from src.utils import read_data, identifier\n",
    "\n",
    "# Funções de ativação\n",
    "from src.activation_functions import step_function"
   ]
  },
  {
   "cell_type": "markdown",
   "metadata": {},
   "source": [
    "# Parte 1 - Resolvendo um problema linearmente separável\n",
    "\n",
    "Nesta parte, todas as equipes devem usar o arquivo `dataAll.txt` e construir o algoritmo de treinamento do neurônio perceptron para resolver o problema de classificação proposto."
   ]
  },
  {
   "cell_type": "code",
   "execution_count": 2,
   "metadata": {},
   "outputs": [
    {
     "name": "stdout",
     "output_type": "stream",
     "text": [
      "Quantidade de pontos lidos: 1000\n",
      "Formato dos dados: (1000, 2)\n",
      "\n",
      "Exemplos de dados:\n",
      "(array([-363.7884,  244.1423]), 0.0)\n",
      "(array([ 328.7572, -256.7658]), 1.0)\n",
      "(array([-164.9827,  613.2164]), 0.0)\n",
      "(array([536.5905, 764.9575]), 0.0)\n",
      "(array([314.2297, 343.8375]), 0.0)\n"
     ]
    }
   ],
   "source": [
    "data = read_data('All')\n",
    "\n",
    "print(\"Quantidade de pontos lidos:\", len(data))\n",
    "print(\"Formato dos dados:\", data.shape)\n",
    "print(\"\\nExemplos de dados:\", *[(x, y) for x,y in data[:5]], sep='\\n')"
   ]
  },
  {
   "cell_type": "markdown",
   "metadata": {},
   "source": [
    "1. As equipes devem utilizar a função de ativação degrau com ϑ = 0;\n",
    "2. O valor da taxa de aprendizado deve ser igual a η = 0,1;\n",
    "3. O vetor inicial de pesos deve ter seus valores inicializados conforme uma variável aleatória de distribuição uniforme no intervalo, isto é, wi ∼ U (−0,5, + 0,5). O vetor inicial de pesos deve ser impresso no início da execução do algoritmo;"
   ]
  },
  {
   "cell_type": "code",
   "execution_count": 3,
   "metadata": {},
   "outputs": [
    {
     "name": "stdout",
     "output_type": "stream",
     "text": [
      "Vetor de pesos inicial:  [0. 0. 0.]\n",
      "Vetor de pesos após a randomização:  [ 0.49720536 -0.15171896  0.18192264]\n"
     ]
    }
   ],
   "source": [
    "perceptron = Perceptron(data=data, activation_function=step_function, bias=-1, learning_rate=0.1)\n",
    "\n",
    "print('Vetor de pesos inicial: ', perceptron.weights)\n",
    "\n",
    "perceptron.randomize_weights(floor=-0.5, ceiling=0.501)\n",
    "print('Vetor de pesos após a randomização: ', perceptron.weights)"
   ]
  },
  {
   "cell_type": "markdown",
   "metadata": {},
   "source": [
    "4. A cada época deve ser indicado o número de ajustes feitos no vetor de pesos;\n",
    "5. O algoritmo deve executar até a convergência, isto é, até que não haja erros para todos os exemplos presentes no conjunto de treinamento;\n",
    "6. Ao final, deve-se imprimir:\n",
    "    - A - O número total de ajustes no vetor de pesos;\n",
    "    - B - O número de épocas até a convergência;\n",
    "    - C - O gráfico contendo todos os exemplos do conjunto de dados e a reta que separa as classes obtida como resultado do treinamento do neurônio Perceptron. Respeitar o esquema de cores proposto inicialmente e apresentar a solução de maneira clara neste gráfico."
   ]
  },
  {
   "cell_type": "code",
   "execution_count": 4,
   "metadata": {},
   "outputs": [
    {
     "name": "stdout",
     "output_type": "stream",
     "text": [
      "Treinamento finalizado!\n",
      "Quantidade de épocas até a convergência:  4\n",
      "Quantidade de ajustes no vetor de pesos:  55\n",
      "Vetor de pesos final:  [-2.79464294e-03  3.23257311e+02 -3.23328917e+02]\n"
     ]
    }
   ],
   "source": [
    "epoch, updates = perceptron.train()\n",
    "\n",
    "print('Treinamento finalizado!')\n",
    "print('Quantidade de épocas até a convergência: ', epoch)\n",
    "print('Quantidade de ajustes no vetor de pesos: ', updates)\n",
    "\n",
    "print(\"Vetor de pesos final: \", perceptron.weights)"
   ]
  },
  {
   "cell_type": "code",
   "execution_count": 5,
   "metadata": {},
   "outputs": [],
   "source": [
    "def plot_results(data, final_weights):\n",
    "    # INCLUIR AQUI A LÓGICA DE CRIAÇÃO DO GRÁFICO\n",
    "    plt.figure(figsize=(8,8))\n",
    "    \n",
    "    # Criar gráfico de dispersão dos pontos de entrada usando o parametro \"data\"\n",
    "    # plt.scatter\n",
    "    \n",
    "\n",
    "    # Criar gráfico de linha da reta x2 = -(w1/w2)x1 + (w0/x1) gerada pelo perceptron\n",
    "    # plt.plot\n",
    "    w0, w1, w2 = final_weights\n",
    "    x2 = lambda x1: (w0/w2) - (w1/w2)*x1"
   ]
  },
  {
   "cell_type": "markdown",
   "metadata": {},
   "source": [
    "# Parte 2 - Experimentação\n",
    "\n",
    "Nesta segunda parte, cada equipe deverá usar o seu respectivo identificador de exemplos para trabalhar com um arquivo específico."
   ]
  },
  {
   "cell_type": "code",
   "execution_count": 6,
   "metadata": {},
   "outputs": [
    {
     "name": "stdout",
     "output_type": "stream",
     "text": [
      "Identificador da equipe: 1\n",
      "Quantidade de pontos lidos: 600\n",
      "Formato dos dados: (600, 2)\n",
      "\n",
      "Exemplos de dados:\n",
      "(array([ 0.13658687, -0.16460088]), 0.0)\n",
      "(array([-0.0228559 , -0.01094684]), 0.0)\n",
      "(array([-0.02654897,  0.00582183]), 0.0)\n",
      "(array([0.07457416, 0.0650317 ]), 0.0)\n",
      "(array([-0.01276975, -0.07384375]), 0.0)\n"
     ]
    }
   ],
   "source": [
    "matriculas = [\"2015310060\", '2115080033', \"2115080052\", \"2115080024\"]\n",
    "\n",
    "team_id = identifier(matriculas)\n",
    "\n",
    "print(\"Identificador da equipe:\", team_id)\n",
    "\n",
    "data = read_data(team_id)\n",
    "\n",
    "print(\"Quantidade de pontos lidos:\", len(data))\n",
    "print(\"Formato dos dados:\", data.shape)\n",
    "print(\"\\nExemplos de dados:\", *[(x, y) for x,y in data[:5]], sep='\\n')"
   ]
  },
  {
   "cell_type": "markdown",
   "metadata": {},
   "source": [
    "A equipe deve aproveitar o algoritmo construído na Parte 1 e executar 10 repetições do mesmo para as seguintes configurações: η × I = {0.4, 0.1, 0.01} × {(−100, + 100), (−0.5, + 0.5)} em que I é o intervalo a ser utilizado para a distribuição uniforme do valor dos pesos. Assim, há 6 configurações a serem testadas, cada uma delas por 10 repetições."
   ]
  },
  {
   "cell_type": "code",
   "execution_count": 7,
   "metadata": {},
   "outputs": [],
   "source": [
    "def train_with_parameters(data, rates, ranges):\n",
    "    perceptron = Perceptron(\n",
    "        data=data,\n",
    "        activation_function=step_function,\n",
    "    )\n",
    "\n",
    "    results = dict()\n",
    "    for learning_rate in rates:\n",
    "        perceptron.learning_rate = learning_rate\n",
    "\n",
    "        for range_bounds in ranges:\n",
    "            epochs_list = []\n",
    "            updates_list = []\n",
    "\n",
    "            min_epochs = float(\"inf\")\n",
    "            for train in range(10):\n",
    "                # Init the perceptron with the learning_rate\n",
    "                perceptron = Perceptron(\n",
    "                    data=data,\n",
    "                    activation_function=step_function,\n",
    "                    bias=-1,\n",
    "                    learning_rate=learning_rate,\n",
    "                )\n",
    "\n",
    "                # Draft the weights\n",
    "                perceptron.randomize_weights(\n",
    "                    floor=-range_bounds, ceiling=range_bounds + 0.1\n",
    "                )\n",
    "\n",
    "                # Train the perceptron\n",
    "                epoch, updates = perceptron.train()\n",
    "\n",
    "                # Save epochs and updates\n",
    "                epochs_list.append(epoch)\n",
    "                updates_list.append(updates)\n",
    "\n",
    "                # Track the minimum number of epochs\n",
    "                if epoch < min_epochs:\n",
    "                    min_epochs = epoch\n",
    "\n",
    "                if train == 9:\n",
    "                    # TODO: plot the last solution\n",
    "                    pass\n",
    "\n",
    "            # Calculate mean and standard deviation\n",
    "            mean_updates = np.mean(updates_list)\n",
    "            std_updates = np.std(updates_list)\n",
    "\n",
    "            # Save results in the dictionary\n",
    "            results[(learning_rate, range_bounds)] = {\n",
    "                \"mean_updates\": mean_updates,\n",
    "                \"std_updates\": std_updates,\n",
    "                \"min_epochs\": min_epochs,\n",
    "            }\n",
    "\n",
    "    return results"
   ]
  },
  {
   "cell_type": "code",
   "execution_count": 8,
   "metadata": {},
   "outputs": [],
   "source": [
    "rates = [0.4, 0.1, 0.01]\n",
    "ranges = [100, 0.5]\n",
    "\n",
    "results = train_with_parameters(data, rates=rates, ranges=ranges)"
   ]
  },
  {
   "cell_type": "code",
   "execution_count": 9,
   "metadata": {},
   "outputs": [
    {
     "data": {
      "text/html": [
       "<table>\n",
       "    <thead>\n",
       "        <tr>\n",
       "            <th>Learning Rate</th>\n",
       "            <th>Weight Range</th>\n",
       "            <th>Mean Updates</th>\n",
       "            <th>SD Updates</th>\n",
       "            <th>Min Epochs</th>\n",
       "        </tr>\n",
       "    </thead>\n",
       "    <tbody>\n",
       "        <tr>\n",
       "            <td>0.4</td>\n",
       "            <td>-100 to 100</td>\n",
       "            <td>369.2</td>\n",
       "            <td>168.79383875011553</td>\n",
       "            <td>6</td>\n",
       "        </tr>\n",
       "        <tr>\n",
       "            <td>0.4</td>\n",
       "            <td>-0.5 to 0.5</td>\n",
       "            <td>52.5</td>\n",
       "            <td>11.552056094046634</td>\n",
       "            <td>18</td>\n",
       "        </tr>\n",
       "        <tr>\n",
       "            <td>0.1</td>\n",
       "            <td>-100 to 100</td>\n",
       "            <td>1661.1</td>\n",
       "            <td>637.3061195375421</td>\n",
       "            <td>16</td>\n",
       "        </tr>\n",
       "        <tr>\n",
       "            <td>0.1</td>\n",
       "            <td>-0.5 to 0.5</td>\n",
       "            <td>37.5</td>\n",
       "            <td>20.6990337938755</td>\n",
       "            <td>2</td>\n",
       "        </tr>\n",
       "        <tr>\n",
       "            <td>0.01</td>\n",
       "            <td>-100 to 100</td>\n",
       "            <td>15952.7</td>\n",
       "            <td>4861.805920643069</td>\n",
       "            <td>76</td>\n",
       "        </tr>\n",
       "        <tr>\n",
       "            <td>0.01</td>\n",
       "            <td>-0.5 to 0.5</td>\n",
       "            <td>97.7</td>\n",
       "            <td>35.8609815816578</td>\n",
       "            <td>2</td>\n",
       "        </tr>\n",
       "    </tbody>\n",
       "</table>"
      ],
      "text/plain": [
       "+---------------+--------------+--------------+--------------------+------------+\n",
       "| Learning Rate | Weight Range | Mean Updates |     SD Updates     | Min Epochs |\n",
       "+---------------+--------------+--------------+--------------------+------------+\n",
       "|      0.4      | -100 to 100  |    369.2     | 168.79383875011553 |     6      |\n",
       "|      0.4      | -0.5 to 0.5  |     52.5     | 11.552056094046634 |     18     |\n",
       "|      0.1      | -100 to 100  |    1661.1    | 637.3061195375421  |     16     |\n",
       "|      0.1      | -0.5 to 0.5  |     37.5     |  20.6990337938755  |     2      |\n",
       "|      0.01     | -100 to 100  |   15952.7    | 4861.805920643069  |     76     |\n",
       "|      0.01     | -0.5 to 0.5  |     97.7     |  35.8609815816578  |     2      |\n",
       "+---------------+--------------+--------------+--------------------+------------+"
      ]
     },
     "execution_count": 9,
     "metadata": {},
     "output_type": "execute_result"
    }
   ],
   "source": [
    "table = PrettyTable()\n",
    "table.field_names = [\n",
    "    \"Learning Rate\",\n",
    "    \"Weight Range\",\n",
    "    \"Mean Updates\",\n",
    "    \"SD Updates\",\n",
    "    \"Min Epochs\",\n",
    "]\n",
    "\n",
    "# Add rows to the table\n",
    "for key, value in results.items():\n",
    "    learning_rate, range_val = key\n",
    "    table.add_row(\n",
    "        [\n",
    "            learning_rate,\n",
    "            f\"{-range_val} to {range_val}\",\n",
    "            value[\"mean_updates\"],\n",
    "            value[\"std_updates\"],\n",
    "            value[\"min_epochs\"],\n",
    "        ]\n",
    "    )\n",
    "\n",
    "# Print the table\n",
    "table"
   ]
  },
  {
   "cell_type": "markdown",
   "metadata": {},
   "source": [
    "Para cada configuração, deve-se apresentar um único gráfico contendo as entradas e a solução obtida, para mostrar que todas as configurações, ainda que distintas, levam à convergência. O gráfico a ser mostrado pode conter a reta resultante da última repetição, por exemplo. É importante respeitar as sugestões de ilustração indicadas anteriormente."
   ]
  },
  {
   "cell_type": "code",
   "execution_count": null,
   "metadata": {},
   "outputs": [],
   "source": []
  }
 ],
 "metadata": {
  "kernelspec": {
   "display_name": "rna_perceptron",
   "language": "python",
   "name": "python3"
  },
  "language_info": {
   "codemirror_mode": {
    "name": "ipython",
    "version": 3
   },
   "file_extension": ".py",
   "mimetype": "text/x-python",
   "name": "python",
   "nbconvert_exporter": "python",
   "pygments_lexer": "ipython3",
   "version": "3.10.14"
  }
 },
 "nbformat": 4,
 "nbformat_minor": 2
}
