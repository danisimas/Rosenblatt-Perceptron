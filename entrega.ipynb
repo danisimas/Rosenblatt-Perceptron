{
 "cells": [
  {
   "cell_type": "markdown",
   "metadata": {},
   "source": [
    "# RNA - Atividade 2.1 - Perceptron de Rosenblatt\n",
    "\n",
    "Neste projeto prático, o objetivo é implementar o algoritmo de treinamento mediante Aprendizado Supervisionado do neurônio Perceptron de Rosenblatt aplicado em problemas de classificação. Para tanto, cada equipe deverá elaborar Jupyter Notebooks com o código-fonte deste algoritmo de treinamento desenvolvido na linguagem de Programação Python e fazendo uso das bibliotecas numpy, random, math e matplotlib. Em particular, a biblioteca numpy será de uso obrigatório para todas as operações de natureza matricial (multiplicação de matrizes, produto escalar, etc). Neste projeto prático, a biblioteca sci-kit learn só deve ser utilizada para o cálculo de métricas de desempenho."
   ]
  },
  {
   "cell_type": "markdown",
   "metadata": {},
   "source": [
    "## Equipe\n",
    "\n",
    "- Daniele Simas - 2015310060\n",
    "- Felipe Amorim - 2115080033\n",
    "- José Manuel - 2115080052\n",
    "- Miguel Angelo - 2115080024"
   ]
  },
  {
   "cell_type": "markdown",
   "metadata": {},
   "source": [
    "## Importação de Bibliotecas"
   ]
  },
  {
   "cell_type": "code",
   "execution_count": 1,
   "metadata": {},
   "outputs": [],
   "source": [
    "import numpy as np\n",
    "import matplotlib.pyplot as plt"
   ]
  },
  {
   "cell_type": "markdown",
   "metadata": {},
   "source": [
    "# Parte 1 - Resolvendo um problema linearmente separável\n",
    "\n",
    "Nesta parte, todas as equipes devem usar o arquivo `dataAll.txt` e construir o algoritmo de treinamento do neurônio perceptron para resolver o problema de classificação proposto."
   ]
  },
  {
   "cell_type": "code",
   "execution_count": 18,
   "metadata": {},
   "outputs": [],
   "source": [
    "# Classe para controlar o treinamento do perceptron\n",
    "from src.perceptron import Perceptron\n",
    "\n",
    "# Funções auxiliares para carregar os arquivos do exercicio\n",
    "from src.utils import read_data, identifier\n",
    "\n",
    "# Funções de ativação\n",
    "import src.activation_functions"
   ]
  },
  {
   "cell_type": "code",
   "execution_count": 12,
   "metadata": {},
   "outputs": [
    {
     "name": "stdout",
     "output_type": "stream",
     "text": [
      "Quantidade de pontos lidos:  1000\n",
      "Formato dos dados:  (1000, 2)\n",
      "\n",
      "Exemplos de dados: \n",
      "(array([-363.7884,  244.1423]), 0.0)\n",
      "(array([ 328.7572, -256.7658]), 1.0)\n",
      "(array([-164.9827,  613.2164]), 0.0)\n",
      "(array([536.5905, 764.9575]), 0.0)\n",
      "(array([314.2297, 343.8375]), 0.0)\n"
     ]
    }
   ],
   "source": [
    "data = read_data('All')\n",
    "\n",
    "print(\"Quantidade de pontos lidos: \", len(data))\n",
    "print(\"Formato dos dados: \", data.shape)\n",
    "print(\"\\nExemplos de dados: \", *[(x, y) for x,y in data[:5]], sep='\\n')"
   ]
  },
  {
   "cell_type": "markdown",
   "metadata": {},
   "source": [
    "1. As equipes devem utilizar a função de ativação degrau com ϑ = 0;\n",
    "2. O valor da taxa de aprendizado deve ser igual a η = 0,1;\n",
    "3. O vetor inicial de pesos deve ter seus valores inicializados conforme uma variável aleatória de distribuição uniforme no intervalo, isto é, wi ∼ U (−0,5, + 0,5). O vetor inicial de pesos deve ser impresso no início da execução do algoritmo;"
   ]
  },
  {
   "cell_type": "code",
   "execution_count": 39,
   "metadata": {},
   "outputs": [
    {
     "name": "stdout",
     "output_type": "stream",
     "text": [
      "Vetor de pesos inicial:  [0. 0. 0.]\n",
      "Vetor de pesos após a randomização:  [-0.11215026 -0.26412487  0.4925133 ]\n"
     ]
    }
   ],
   "source": [
    "perceptron = Perceptron(data=data, activation_function=activation_functions.step_function, bias=-1, learning_rate=0.1)\n",
    "\n",
    "print('Vetor de pesos inicial: ', perceptron.weights)\n",
    "\n",
    "perceptron.randomize_weights(floor=-0.5, ceiling=0.501)\n",
    "print('Vetor de pesos após a randomização: ', perceptron.weights)"
   ]
  },
  {
   "cell_type": "markdown",
   "metadata": {},
   "source": [
    "4. A cada época deve ser indicado o número de ajustes feitos no vetor de pesos;\n",
    "5. O algoritmo deve executar até a convergência, isto é, até que não haja erros para todos os exemplos presentes no conjunto de treinamento;\n",
    "6. Ao final, deve-se imprimir:\n",
    "    - A - O número total de ajustes no vetor de pesos;\n",
    "    - B - O número de épocas até a convergência;\n",
    "    - C - O gráfico contendo todos os exemplos do conjunto de dados e a reta que separa as classes obtida como resultado do treinamento do neurônio Perceptron. Respeitar o esquema de cores proposto inicialmente e apresentar a solução de maneira clara neste gráfico."
   ]
  },
  {
   "cell_type": "code",
   "execution_count": 40,
   "metadata": {},
   "outputs": [
    {
     "name": "stdout",
     "output_type": "stream",
     "text": [
      "Treinamento finalizado!\n",
      "Quantidade de épocas até a convergência:  4\n",
      "Quantidade de ajustes no vetor de pesos:  55\n",
      "Vetor de pesos final:  [  -0.61215026  323.14490513 -323.0183267 ]\n"
     ]
    }
   ],
   "source": [
    "epoch, updates = perceptron.train()\n",
    "\n",
    "print('Treinamento finalizado!')\n",
    "print('Quantidade de épocas até a convergência: ', epoch)\n",
    "print('Quantidade de ajustes no vetor de pesos: ', updates)\n",
    "\n",
    "print(\"Vetor de pesos final: \", perceptron.weights)"
   ]
  },
  {
   "cell_type": "code",
   "execution_count": 41,
   "metadata": {},
   "outputs": [],
   "source": [
    "def plot_results(data, final_weights):\n",
    "    # INCLUIR AQUI A LÓGICA DE CRIAÇÃO DO GRÁFICO\n",
    "    plt.figure(figsize=(8,8))\n",
    "    \n",
    "    # Criar gráfico de dispersão dos pontos de entrada usando o parametro \"data\"\n",
    "    # plt.scatter\n",
    "    \n",
    "\n",
    "    # Criar gráfico de linha da reta x2 = -(w1/w2)x1 + (w0/x1) gerada pelo perceptron\n",
    "    # plt.plot\n",
    "    w0, w1, w2 = final_weights\n",
    "    x2 = lambda x1: (w0/w2) - (w1/w2)*x1"
   ]
  }
 ],
 "metadata": {
  "kernelspec": {
   "display_name": "rna_perceptron",
   "language": "python",
   "name": "python3"
  },
  "language_info": {
   "codemirror_mode": {
    "name": "ipython",
    "version": 3
   },
   "file_extension": ".py",
   "mimetype": "text/x-python",
   "name": "python",
   "nbconvert_exporter": "python",
   "pygments_lexer": "ipython3",
   "version": "3.12.1"
  }
 },
 "nbformat": 4,
 "nbformat_minor": 2
}
